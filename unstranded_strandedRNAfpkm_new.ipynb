{
 "cells": [
  {
   "cell_type": "code",
   "execution_count": 6,
   "id": "17c877aebc72a2df",
   "metadata": {
    "collapsed": false,
    "ExecuteTime": {
     "end_time": "2024-02-21T11:39:30.345073600Z",
     "start_time": "2024-02-21T11:39:30.307545800Z"
    }
   },
   "outputs": [],
   "source": [
    "import pandas as pd\n",
    "import gffutils"
   ]
  },
  {
   "cell_type": "code",
   "outputs": [],
   "source": [
    "# Path to the existing GTF database\n",
    "db_file = r\"C:\\Users\\pg22\\PycharmProjects\\pythonProject\\gencode_v36.db\""
   ],
   "metadata": {
    "collapsed": false,
    "ExecuteTime": {
     "end_time": "2024-02-21T11:39:30.924889Z",
     "start_time": "2024-02-21T11:39:30.889650500Z"
    }
   },
   "id": "f559516edadd23df",
   "execution_count": 7
  },
  {
   "cell_type": "code",
   "outputs": [],
   "source": [
    "# Load the existing database\n",
    "db = gffutils.FeatureDB(db_file)"
   ],
   "metadata": {
    "collapsed": false,
    "ExecuteTime": {
     "end_time": "2024-02-21T11:39:31.825313400Z",
     "start_time": "2024-02-21T11:39:31.795726100Z"
    }
   },
   "id": "d1028b9660c2f6ee",
   "execution_count": 8
  },
  {
   "cell_type": "code",
   "outputs": [
    {
     "data": {
      "text/plain": "                   gene_length_kb\nENSG00000223972.5           2.289\nENSG00000227232.5           1.351\nENSG00000278267.1           0.068\nENSG00000243485.5           1.247\nENSG00000284332.1           0.138",
      "text/html": "<div>\n<style scoped>\n    .dataframe tbody tr th:only-of-type {\n        vertical-align: middle;\n    }\n\n    .dataframe tbody tr th {\n        vertical-align: top;\n    }\n\n    .dataframe thead th {\n        text-align: right;\n    }\n</style>\n<table border=\"1\" class=\"dataframe\">\n  <thead>\n    <tr style=\"text-align: right;\">\n      <th></th>\n      <th>gene_length_kb</th>\n    </tr>\n  </thead>\n  <tbody>\n    <tr>\n      <th>ENSG00000223972.5</th>\n      <td>2.289</td>\n    </tr>\n    <tr>\n      <th>ENSG00000227232.5</th>\n      <td>1.351</td>\n    </tr>\n    <tr>\n      <th>ENSG00000278267.1</th>\n      <td>0.068</td>\n    </tr>\n    <tr>\n      <th>ENSG00000243485.5</th>\n      <td>1.247</td>\n    </tr>\n    <tr>\n      <th>ENSG00000284332.1</th>\n      <td>0.138</td>\n    </tr>\n  </tbody>\n</table>\n</div>"
     },
     "execution_count": 9,
     "metadata": {},
     "output_type": "execute_result"
    }
   ],
   "source": [
    "# Read the gene lengths from a CSV file\n",
    "gene_lengths_df = pd.read_csv('gene_lengths.csv', index_col=0)\n",
    "gene_lengths_df.head()"
   ],
   "metadata": {
    "collapsed": false,
    "ExecuteTime": {
     "end_time": "2024-02-21T11:39:32.669833Z",
     "start_time": "2024-02-21T11:39:32.603180300Z"
    }
   },
   "id": "7c57c13439ae61a4",
   "execution_count": 9
  },
  {
   "cell_type": "code",
   "outputs": [],
   "source": [
    "# Convert the DataFrame to a dictionary\n",
    "gene_lengths = gene_lengths_df.to_dict()['gene_length_kb']"
   ],
   "metadata": {
    "collapsed": false,
    "ExecuteTime": {
     "end_time": "2024-02-21T11:39:35.861684600Z",
     "start_time": "2024-02-21T11:39:35.803451200Z"
    }
   },
   "id": "9935b5746c3db144",
   "execution_count": 10
  },
  {
   "cell_type": "code",
   "outputs": [
    {
     "data": {
      "text/plain": "                   gene_name       gene_type  unstranded  stranded_first  \\\ngene_id                                                                    \nENSG00000000003.15    TSPAN6  protein_coding        5095            2519   \nENSG00000000005.6       TNMD  protein_coding          30              17   \nENSG00000000419.13      DPM1  protein_coding        1463             734   \nENSG00000000457.14     SCYL3  protein_coding         413             406   \nENSG00000000460.17  C1orf112  protein_coding         346             379   \n\n                    stranded_second  tpm_unstranded  fpkm_unstranded  \\\ngene_id                                                                \nENSG00000000003.15             2576         93.3645          30.8501   \nENSG00000000005.6                14          1.6895           0.5582   \nENSG00000000419.13              729        100.7507          33.2907   \nENSG00000000457.14              401          4.9875           1.6480   \nENSG00000000460.17              379          4.8174           1.5918   \n\n                    fpkm_uq_unstranded  \ngene_id                                 \nENSG00000000003.15             34.7426  \nENSG00000000005.6               0.6287  \nENSG00000000419.13             37.4911  \nENSG00000000457.14              1.8559  \nENSG00000000460.17              1.7926  ",
      "text/html": "<div>\n<style scoped>\n    .dataframe tbody tr th:only-of-type {\n        vertical-align: middle;\n    }\n\n    .dataframe tbody tr th {\n        vertical-align: top;\n    }\n\n    .dataframe thead th {\n        text-align: right;\n    }\n</style>\n<table border=\"1\" class=\"dataframe\">\n  <thead>\n    <tr style=\"text-align: right;\">\n      <th></th>\n      <th>gene_name</th>\n      <th>gene_type</th>\n      <th>unstranded</th>\n      <th>stranded_first</th>\n      <th>stranded_second</th>\n      <th>tpm_unstranded</th>\n      <th>fpkm_unstranded</th>\n      <th>fpkm_uq_unstranded</th>\n    </tr>\n    <tr>\n      <th>gene_id</th>\n      <th></th>\n      <th></th>\n      <th></th>\n      <th></th>\n      <th></th>\n      <th></th>\n      <th></th>\n      <th></th>\n    </tr>\n  </thead>\n  <tbody>\n    <tr>\n      <th>ENSG00000000003.15</th>\n      <td>TSPAN6</td>\n      <td>protein_coding</td>\n      <td>5095</td>\n      <td>2519</td>\n      <td>2576</td>\n      <td>93.3645</td>\n      <td>30.8501</td>\n      <td>34.7426</td>\n    </tr>\n    <tr>\n      <th>ENSG00000000005.6</th>\n      <td>TNMD</td>\n      <td>protein_coding</td>\n      <td>30</td>\n      <td>17</td>\n      <td>14</td>\n      <td>1.6895</td>\n      <td>0.5582</td>\n      <td>0.6287</td>\n    </tr>\n    <tr>\n      <th>ENSG00000000419.13</th>\n      <td>DPM1</td>\n      <td>protein_coding</td>\n      <td>1463</td>\n      <td>734</td>\n      <td>729</td>\n      <td>100.7507</td>\n      <td>33.2907</td>\n      <td>37.4911</td>\n    </tr>\n    <tr>\n      <th>ENSG00000000457.14</th>\n      <td>SCYL3</td>\n      <td>protein_coding</td>\n      <td>413</td>\n      <td>406</td>\n      <td>401</td>\n      <td>4.9875</td>\n      <td>1.6480</td>\n      <td>1.8559</td>\n    </tr>\n    <tr>\n      <th>ENSG00000000460.17</th>\n      <td>C1orf112</td>\n      <td>protein_coding</td>\n      <td>346</td>\n      <td>379</td>\n      <td>379</td>\n      <td>4.8174</td>\n      <td>1.5918</td>\n      <td>1.7926</td>\n    </tr>\n  </tbody>\n</table>\n</div>"
     },
     "execution_count": 11,
     "metadata": {},
     "output_type": "execute_result"
    }
   ],
   "source": [
    "# Read your RNA-seq data\n",
    "rna_seq_file = r\"C:\\Users\\pg22\\OneDrive - King's College London\\Documents\\PhD Data\\TCGA_TCIA\\Genome\\TCGA_70_Matched Transcrptome data\\70 T data\\1c091fe9-f2ca-478c-95be-b924f30c4c75\\c93e41f3-3a23-4757-af8c-af11fab60b52.rna_seq.augmented_star_gene_counts.csv\"\n",
    "rna_seq_data = pd.read_csv(rna_seq_file, index_col=0)\n",
    "rna_seq_data.head()"
   ],
   "metadata": {
    "collapsed": false,
    "ExecuteTime": {
     "end_time": "2024-02-21T11:39:38.067539600Z",
     "start_time": "2024-02-21T11:39:37.946970700Z"
    }
   },
   "id": "d4dc5ec93fd2ee9a",
   "execution_count": 11
  },
  {
   "cell_type": "code",
   "outputs": [],
   "source": [
    "# Merge the gene lengths with your RNA-seq data\n",
    "merged_data = pd.merge(rna_seq_data, gene_lengths_df, left_on='gene_id', right_index=True)"
   ],
   "metadata": {
    "collapsed": false,
    "ExecuteTime": {
     "end_time": "2024-02-21T11:39:41.723465800Z",
     "start_time": "2024-02-21T11:39:41.678762800Z"
    }
   },
   "id": "2f6147a7e2c8c9fd",
   "execution_count": 12
  },
  {
   "cell_type": "code",
   "outputs": [],
   "source": [
    "# Calculate FPKM\n",
    "total_mapped_reads = merged_data['stranded_first'].sum() / 1e6  # replace 'stranded_first' with 'stranded_second' if necessary\n",
    "merged_data['fpkm'] = merged_data.apply(lambda row: (row['stranded_first'] / (row['gene_length_kb'] * total_mapped_reads)), axis=1)"
   ],
   "metadata": {
    "collapsed": false,
    "ExecuteTime": {
     "end_time": "2024-02-21T11:39:43.599502400Z",
     "start_time": "2024-02-21T11:39:43.161026400Z"
    }
   },
   "id": "4c28d8a929fbb68b",
   "execution_count": 13
  },
  {
   "cell_type": "code",
   "outputs": [],
   "source": [
    "# Calculate log2(FPKM + 1)\n",
    "import math\n",
    "merged_data['log2_fpkm'] = merged_data['fpkm'].apply(lambda x: math.log2(x + 1))"
   ],
   "metadata": {
    "collapsed": false,
    "ExecuteTime": {
     "end_time": "2024-02-21T11:39:44.463898500Z",
     "start_time": "2024-02-21T11:39:44.438903400Z"
    }
   },
   "id": "982fbfc2a8ae55f4",
   "execution_count": 14
  },
  {
   "cell_type": "code",
   "outputs": [],
   "source": [
    "# Calculate TPM\n",
    "merged_data['tpm'] = merged_data.apply(lambda row: (row['stranded_first'] / row['gene_length_kb']) * (1e6 / total_mapped_reads), axis=1)"
   ],
   "metadata": {
    "collapsed": false,
    "ExecuteTime": {
     "end_time": "2024-02-21T11:39:45.556009600Z",
     "start_time": "2024-02-21T11:39:45.245115700Z"
    }
   },
   "id": "1d2b007f80f0c115",
   "execution_count": 15
  },
  {
   "cell_type": "code",
   "outputs": [],
   "source": [
    "# Output the result\n",
    "merged_data.to_csv('TCGA1_strandedfpkm.csv', index=False)"
   ],
   "metadata": {
    "collapsed": false,
    "ExecuteTime": {
     "end_time": "2024-02-21T11:39:48.402075300Z",
     "start_time": "2024-02-21T11:39:48.082697600Z"
    }
   },
   "id": "80edccf60ae99bb8",
   "execution_count": 16
  },
  {
   "cell_type": "code",
   "outputs": [],
   "source": [
    "# calculate gene level fpkm and tpm\n",
    "gene_fpkm = merged_data.groupby('gene_name')['fpkm'].sum()\n",
    "gene_tpm = merged_data.groupby('gene_name')['tpm'].sum()"
   ],
   "metadata": {
    "collapsed": false,
    "ExecuteTime": {
     "end_time": "2024-02-21T11:39:51.838257300Z",
     "start_time": "2024-02-21T11:39:51.716038300Z"
    }
   },
   "id": "e64f526099ae2d34",
   "execution_count": 17
  },
  {
   "cell_type": "code",
   "outputs": [],
   "source": [
    "# Remove genes with zero FPKM\n",
    "gene_fpkm = gene_fpkm[gene_fpkm > 0]\n",
    "gene_tpm = gene_tpm[gene_tpm > 0]"
   ],
   "metadata": {
    "collapsed": false,
    "ExecuteTime": {
     "end_time": "2024-02-21T11:39:52.446342200Z",
     "start_time": "2024-02-21T11:39:52.400709900Z"
    }
   },
   "id": "edff5328d8f42a0f",
   "execution_count": 18
  },
  {
   "cell_type": "code",
   "outputs": [],
   "source": [
    "# output the result\n",
    "gene_fpkm.to_csv('TCGA1_gene_fpkm.csv')\n",
    "gene_tpm.to_csv('TCGA1_gene_tpm.csv')"
   ],
   "metadata": {
    "collapsed": false,
    "ExecuteTime": {
     "end_time": "2024-02-21T11:39:53.237708800Z",
     "start_time": "2024-02-21T11:39:53.138513100Z"
    }
   },
   "id": "7719c6d2442259ea",
   "execution_count": 19
  },
  {
   "cell_type": "code",
   "outputs": [],
   "source": [
    "# Calculate the sum of FPKM values over all genes\n",
    "total_fpkm = merged_data['fpkm'].sum()\n",
    "\n",
    "# Convert FPKM to TPM\n",
    "merged_data['tpm'] = merged_data['fpkm'].apply(lambda x: x / total_fpkm * 1e6)"
   ],
   "metadata": {
    "collapsed": false,
    "ExecuteTime": {
     "end_time": "2024-02-19T13:37:26.603342500Z",
     "start_time": "2024-02-19T13:37:26.535484500Z"
    }
   },
   "id": "514b32463d0fd943",
   "execution_count": 16
  },
  {
   "cell_type": "code",
   "outputs": [],
   "source": [
    "import os\n",
    "import pandas as pd\n",
    "import gffutils\n",
    "import math\n",
    "# Main directory\n",
    "main_dir = r\"C:\\Users\\pg22\\OneDrive - King's College London\\Documents\\PhD Data\\TCGA_TCIA\\Genome\\TCGA_70_Matched Transcrptome data\\70 T data\"\n",
    "\n",
    "# Create a new folder within the main directory\n",
    "new_folder = os.path.join(main_dir, 'TCGA_70T_stranded_fpkm')\n",
    "os.makedirs(new_folder, exist_ok=True)\n",
    "\n",
    "# Path to the existing GTF database\n",
    "db_file = r\"C:\\Users\\pg22\\PycharmProjects\\pythonProject\\gencode_v36.db\"\n",
    "\n",
    "# Load the existing database\n",
    "db = gffutils.FeatureDB(db_file)\n",
    "# Read the gene lengths from a CSV file\n",
    "gene_lengths_df = pd.read_csv('gene_lengths.csv', index_col=0)\n",
    "\n",
    "# Convert the DataFrame to a dictionary\n",
    "gene_lengths = gene_lengths_df.to_dict()['gene_length_kb']\n",
    "# Get a list of all CSV files in the main directory\n",
    "csv_files = [f.path for f in os.scandir(main_dir) if f.is_file() and f.name.endswith('.csv')]\n",
    "\n",
    "# Loop over each CSV file\n",
    "for csv_file in csv_files:\n",
    "    # Read the RNA-seq data\n",
    "    rna_seq_data = pd.read_csv(csv_file, index_col=0)\n",
    "\n",
    "    # Merge the gene lengths with the RNA-seq data\n",
    "    merged_data = pd.merge(rna_seq_data, gene_lengths_df, left_on='gene_id', right_index=True)\n",
    "\n",
    "    # Calculate FPKM\n",
    "    total_mapped_reads = merged_data['stranded_first'].sum() / 1e6  # replace 'stranded_first' with 'stranded_second' if necessary\n",
    "    merged_data['fpkm'] = merged_data.apply(lambda row: (row['stranded_first'] / (row['gene_length_kb'] * total_mapped_reads)), axis=1)\n",
    "\n",
    "    # Calculate log2(FPKM + 1)\n",
    "    merged_data['log2_fpkm'] = merged_data['fpkm'].apply(lambda x: math.log2(x + 1))\n",
    "\n",
    "    # Calculate TPM\n",
    "    merged_data['tpm'] = merged_data.apply(lambda row: (row['stranded_first'] / row['gene_length_kb']) * (1e6 / total_mapped_reads), axis=1)\n",
    "\n",
    "    # Output the result\n",
    "    output_file = os.path.join(new_folder, os.path.splitext(os.path.basename(csv_file))[0] + '_strandedfpkm.csv')\n",
    "    merged_data.to_csv(output_file, index=False)\n",
    "\n",
    "    # Calculate gene level fpkm and tpm\n",
    "    gene_fpkm = merged_data.groupby('gene_name')['fpkm'].sum()\n",
    "    gene_tpm = merged_data.groupby('gene_name')['tpm'].sum()\n",
    "\n",
    "    # Remove genes with zero FPKM\n",
    "    gene_fpkm = gene_fpkm[gene_fpkm > 0]\n",
    "    gene_tpm = gene_tpm[gene_tpm > 0]\n",
    "\n",
    "    # Output the result\n",
    "    output_file_fpkm = os.path.join(new_folder, os.path.splitext(os.path.basename(csv_file))[0] + '_gene_fpkm.csv')\n",
    "    output_file_tpm = os.path.join(new_folder, os.path.splitext(os.path.basename(csv_file))[0] + '_gene_tpm.csv')\n",
    "    gene_fpkm.to_csv(output_file_fpkm)\n",
    "    gene_tpm.to_csv(output_file_tpm)"
   ],
   "metadata": {
    "collapsed": false
   },
   "id": "5ca71a5d1686232e"
  },
  {
   "cell_type": "code",
   "outputs": [],
   "source": [
    "import os\n",
    "import pandas as pd\n",
    "import gffutils\n",
    "import math\n",
    "\n",
    "# Main directory\n",
    "main_dir = r\"C:\\Users\\pg22\\OneDrive - King's College London\\Documents\\PhD Data\\TCGA_TCIA\\Genome\\TCGA_70_Matched Transcrptome data\\70 T data\"\n",
    "\n",
    "# Path to the existing GTF database\n",
    "db_file = r\"C:\\Users\\pg22\\PycharmProjects\\pythonProject\\gencode_v36.db\"\n",
    "\n",
    "# Load the existing database\n",
    "db = gffutils.FeatureDB(db_file)\n",
    "\n",
    "# Read the gene lengths from a CSV file\n",
    "gene_lengths_df = pd.read_csv('gene_lengths.csv', index_col=0)\n",
    "\n",
    "# Convert the DataFrame to a dictionary\n",
    "gene_lengths = gene_lengths_df.to_dict()['gene_length_kb']\n",
    "\n",
    "# Get a list of all CSV files in the main directory\n",
    "csv_files = [f.path for f in os.scandir(main_dir) if f.is_file() and f.name.endswith('.csv')]\n",
    "\n",
    "# Loop over each CSV file\n",
    "for csv_file in csv_files:\n",
    "    # Read the RNA-seq data\n",
    "    rna_seq_data = pd.read_csv(csv_file, index_col=0)\n",
    "\n",
    "    # Merge the gene lengths with the RNA-seq data\n",
    "    merged_data = pd.merge(rna_seq_data, gene_lengths_df, left_on='gene_id', right_index=True)\n",
    "\n",
    "    # Calculate FPKM\n",
    "    total_mapped_reads = merged_data['stranded_first'].sum() / 1e6  # replace 'stranded_first' with 'stranded_second' if necessary\n",
    "    merged_data['fpkm'] = merged_data.apply(lambda row: (row['stranded_first'] / (row['gene_length_kb'] * total_mapped_reads)), axis=1)\n",
    "\n",
    "    # Calculate log2(FPKM + 1)\n",
    "    merged_data['log2_fpkm'] = merged_data['fpkm'].apply(lambda x: math.log2(x + 1))\n",
    "\n",
    "    # Calculate TPM\n",
    "    merged_data['tpm'] = merged_data.apply(lambda row: (row['stranded_first'] / row['gene_length_kb']) * (1e6 / total_mapped_reads), axis=1)\n",
    "\n",
    "    # Output the result\n",
    "    output_file = os.path.splitext(csv_file)[0] + '_strandedfpkm.csv'\n",
    "    merged_data.to_csv(output_file, index=False)\n",
    "\n",
    "    # Calculate gene level fpkm and tpm\n",
    "    gene_fpkm = merged_data.groupby('gene_name')['fpkm'].sum()\n",
    "    gene_tpm = merged_data.groupby('gene_name')['tpm'].sum()\n",
    "\n",
    "    # Remove genes with zero FPKM\n",
    "    gene_fpkm = gene_fpkm[gene_fpkm > 0]\n",
    "    gene_tpm = gene_tpm[gene_tpm > 0]\n",
    "\n",
    "    # Output the result\n",
    "    output_file_fpkm = os.path.splitext(csv_file)[0] + '_gene_fpkm.csv'\n",
    "    output_file_tpm = os.path.splitext(csv_file)[0] + '_gene_tpm.csv'\n",
    "    gene_fpkm.to_csv(output_file_fpkm)\n",
    "    gene_tpm.to_csv(output_file_tpm)"
   ],
   "metadata": {
    "collapsed": false
   },
   "id": "6eeca6cd013e9d6b"
  }
 ],
 "metadata": {
  "kernelspec": {
   "display_name": "Python 3",
   "language": "python",
   "name": "python3"
  },
  "language_info": {
   "codemirror_mode": {
    "name": "ipython",
    "version": 2
   },
   "file_extension": ".py",
   "mimetype": "text/x-python",
   "name": "python",
   "nbconvert_exporter": "python",
   "pygments_lexer": "ipython2",
   "version": "2.7.6"
  }
 },
 "nbformat": 4,
 "nbformat_minor": 5
}
